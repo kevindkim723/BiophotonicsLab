{
 "cells": [
  {
   "cell_type": "markdown",
   "metadata": {},
   "source": [
    "# Fourier Series Notebook\n",
    "author: Kevin Kim\n",
    "\n",
    "date: 2/22/2021\n",
    "\n",
    "description: A notebook with a basic demonstration of taking Fourier Series"
   ]
  },
  {
   "cell_type": "code",
   "execution_count": 8,
   "metadata": {},
   "outputs": [],
   "source": [
    "import scipy.integrate as integrate\n",
    "import numpy as np\n",
    "import math\n",
    "import matplotlib.pyplot as plt"
   ]
  },
  {
   "cell_type": "markdown",
   "metadata": {},
   "source": [
    "$\\int_{-\\pi}^{\\pi}f(x)\\, dx=\\int_{-\\pi}^{\\pi}\\frac{A_0}{2}\\, dx+\n",
    "\\sum_{n=1}^{\\infty}\\left\\{A_n\\int_{-\\pi}^{\\pi}\\cos(nx)\\, dx+B_n\\int_{-\\pi}^{\\pi}\\sin(nx)\\, dx\\right\\}$\n",
    "is fourier series of f(x) over $\\-pi$ to $\\pi$\n",
    "\n",
    "where\n",
    "\n",
    "$$\n",
    "A_0=\\frac{1}{\\pi}\\int_{-\\pi}^{\\pi}f(x)\\, dx.\n",
    "$$\n",
    "\n",
    "\\begin{equation}\n",
    "B_m=\\frac{1}{\\pi}\\int_{-\\pi}^{\\pi}f(x)\\sin(mx)\\, dx \\qquad m=1, 2, 3, \\dots. \\label{Bs}\n",
    "\\end{equation}\n",
    "\n",
    "\\begin{equation}\n",
    "A_m=\\frac{1}{\\pi}\\int_{-\\pi}^{\\pi}f(x)\\cos(mx)\\, dx \\qquad m=0, 1, 2, \\dots.\\label{As}\n",
    "\\end{equation}\n",
    "\n",
    "Alternate defn:\n",
    "\n",
    "given a function $$f(x)$$ with spatial period $$T = \\frac{2\\pi}{\\lambda}$$ where $\\lambda$ is the wavelength of the function"
   ]
  },
  {
   "cell_type": "markdown",
   "metadata": {},
   "source": [
    "Code to calculate $f(x) * cos(mkx)$ where $k = 2\\pi/\\lambda$\n",
    "\n",
    "Note that in the code, we are calculating fourier series over the bound __$(0, \\lambda)$__ (not $(-\\lambda, \\lambda)$ like shown in the representation above). \n",
    "\n",
    "\n",
    "\n",
    "There is a 2 in front of the expression $k = 2\\pi/\\lambda$ because\n",
    "\n",
    "$$\\int_{-\\lambda}^{\\lambda}f(x)\\, dx = 2\\int_{0}^{\\lambda}f(x)\\, dx$$\n"
   ]
  },
  {
   "cell_type": "code",
   "execution_count": 9,
   "metadata": {},
   "outputs": [],
   "source": [
    "def an(x,n,lam, func):\n",
    "\n",
    "\tk = 2*math.pi / lam\n",
    "\treturn func(x) * math.cos(n*k*x)\n",
    "\n",
    "def bn(x,n,lam,func):\n",
    "\n",
    "\tk = 2*math.pi / lam\n",
    "\treturn func(x) * math.sin(n*k*x)"
   ]
  },
  {
   "cell_type": "code",
   "execution_count": 10,
   "metadata": {},
   "outputs": [],
   "source": [
    "def fourierSeries(n,lam, xval,func):\n",
    "\torigx = xval\n",
    "\tX = np.zeros(np.shape(xval))\n",
    "\tk = 2*math.pi / lam\n",
    "\tA0 = 2/lam * integrate.quad(func, 0, lam)[0]\n",
    "\tfor i in range(1,n):\n",
    "\t\tA_n = 2/lam * integrate.quad(an, 0 ,lam, args=(i,lam, func))[0]\n",
    "\t\tB_n = 2/lam * integrate.quad(bn, 0 ,lam, args=(i,lam,func))[0]\n",
    "\t\tX = np.cos(origx * k * i) * A_n + np.sin(origx *k *i) * B_n + X\n",
    "\treturn X + A0/2\t"
   ]
  },
  {
   "cell_type": "markdown",
   "metadata": {},
   "source": [
    "Fourier Series driver function below"
   ]
  },
  {
   "cell_type": "code",
   "execution_count": 11,
   "metadata": {},
   "outputs": [],
   "source": [
    "def runFourier(n, wavelength, x_start, x_end, func):\n",
    "\txval = np.linspace(x_start, x_end, 10000)\n",
    "\tyfourier = fourierSeries(n, wavelength, xval,func)\n",
    "\tyanalytic = func(xval)\n",
    "\tfig, ax= plt.subplots()\n",
    "\tax.plot(xval, yfourier, label=\"fourier\")\n",
    "\tax.set(xlabel='x', ylabel='y',\n",
    "\t       title='Fourier Series of y=x^2')\n",
    "\tax.plot(xval, yanalytic,label=\"analytic\")\n",
    "\n",
    "\tax.grid()\n",
    "\tax.legend()\n",
    "\n",
    "\n",
    "\tplt.show()"
   ]
  },
  {
   "cell_type": "code",
   "execution_count": 12,
   "metadata": {},
   "outputs": [
    {
     "name": "stderr",
     "output_type": "stream",
     "text": [
      "/home/kevin/.local/lib/python3.6/site-packages/ipykernel_launcher.py:7: IntegrationWarning: The maximum number of subdivisions (50) has been achieved.\n",
      "  If increasing the limit yields no improvement it is advised to analyze \n",
      "  the integrand in order to determine the difficulties.  If the position of a \n",
      "  local difficulty can be determined (singularity, discontinuity) one will \n",
      "  probably gain from splitting up the interval and calling the integrator \n",
      "  on the subranges.  Perhaps a special-purpose integrator should be used.\n",
      "  import sys\n",
      "/home/kevin/.local/lib/python3.6/site-packages/ipykernel_launcher.py:8: IntegrationWarning: The maximum number of subdivisions (50) has been achieved.\n",
      "  If increasing the limit yields no improvement it is advised to analyze \n",
      "  the integrand in order to determine the difficulties.  If the position of a \n",
      "  local difficulty can be determined (singularity, discontinuity) one will \n",
      "  probably gain from splitting up the interval and calling the integrator \n",
      "  on the subranges.  Perhaps a special-purpose integrator should be used.\n",
      "  \n"
     ]
    },
    {
     "data": {
      "image/png": "[encoded data removed]",
      "text/plain": [
       "<Figure size 432x288 with 1 Axes>"
      ]
     },
     "metadata": {
      "needs_background": "light"
     },
     "output_type": "display_data"
    }
   ],
   "source": [
    "runFourier(100, 20, 0, 20, lambda x: x**2)\n"
   ]
  },
  {
   "cell_type": "code",
   "execution_count": null,
   "metadata": {},
   "outputs": [],
   "source": []
  }
 ],
 "metadata": {
  "kernelspec": {
   "display_name": "Python 3",
   "language": "python",
   "name": "python3"
  },
  "language_info": {
   "codemirror_mode": {
    "name": "ipython",
    "version": 3
   },
   "file_extension": ".py",
   "mimetype": "text/x-python",
   "name": "python",
   "nbconvert_exporter": "python",
   "pygments_lexer": "ipython3",
   "version": "3.8.8"
  }
 },
 "nbformat": 4,
 "nbformat_minor": 4
}
